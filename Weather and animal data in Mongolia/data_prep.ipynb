{
 "cells": [
  {
   "cell_type": "markdown",
   "metadata": {},
   "source": [
    "# Data preperation"
   ]
  },
  {
   "cell_type": "markdown",
   "metadata": {},
   "source": [
    "## Data import"
   ]
  },
  {
   "cell_type": "markdown",
   "metadata": {},
   "source": [
    "Import libraries"
   ]
  },
  {
   "cell_type": "code",
   "execution_count": 42,
   "metadata": {},
   "outputs": [],
   "source": [
    "import pandas as pd\n",
    "import numpy as np\n",
    "import matplotlib.pyplot as plt\n",
    "from scipy.stats import pearsonr"
   ]
  },
  {
   "cell_type": "markdown",
   "metadata": {},
   "source": [
    "Import temperature data"
   ]
  },
  {
   "cell_type": "code",
   "execution_count": 2,
   "metadata": {},
   "outputs": [],
   "source": [
    "mean_temp_1 = pd.read_csv(\"./data/tas_1961_1990_MNG.csv\")\n",
    "mean_temp_2 = pd.read_csv(\"./data/tas_1991_2020_MNG.csv\")"
   ]
  },
  {
   "cell_type": "code",
   "execution_count": 3,
   "metadata": {},
   "outputs": [],
   "source": [
    "mean_rainfall_1 = pd.read_csv(\"./data/pr_1961_1990_MNG.csv\")\n",
    "mean_rainfall_2 = pd.read_csv(\"./data/pr_1991_2020_MNG.csv\")"
   ]
  },
  {
   "cell_type": "code",
   "execution_count": 4,
   "metadata": {},
   "outputs": [
    {
     "data": {
      "text/html": [
       "<div>\n",
       "<style scoped>\n",
       "    .dataframe tbody tr th:only-of-type {\n",
       "        vertical-align: middle;\n",
       "    }\n",
       "\n",
       "    .dataframe tbody tr th {\n",
       "        vertical-align: top;\n",
       "    }\n",
       "\n",
       "    .dataframe thead th {\n",
       "        text-align: right;\n",
       "    }\n",
       "</style>\n",
       "<table border=\"1\" class=\"dataframe\">\n",
       "  <thead>\n",
       "    <tr style=\"text-align: right;\">\n",
       "      <th></th>\n",
       "      <th>Temperature - (Celsius)</th>\n",
       "      <th>Year</th>\n",
       "      <th>Statistics</th>\n",
       "      <th>Country</th>\n",
       "      <th>ISO3</th>\n",
       "    </tr>\n",
       "  </thead>\n",
       "  <tbody>\n",
       "    <tr>\n",
       "      <th>0</th>\n",
       "      <td>-20.8</td>\n",
       "      <td>1961</td>\n",
       "      <td>Jan Average</td>\n",
       "      <td>Mongolia</td>\n",
       "      <td>MNG</td>\n",
       "    </tr>\n",
       "    <tr>\n",
       "      <th>1</th>\n",
       "      <td>-15.7</td>\n",
       "      <td>1961</td>\n",
       "      <td>Feb Average</td>\n",
       "      <td>Mongolia</td>\n",
       "      <td>MNG</td>\n",
       "    </tr>\n",
       "    <tr>\n",
       "      <th>2</th>\n",
       "      <td>-8.3</td>\n",
       "      <td>1961</td>\n",
       "      <td>Mar Average</td>\n",
       "      <td>Mongolia</td>\n",
       "      <td>MNG</td>\n",
       "    </tr>\n",
       "    <tr>\n",
       "      <th>3</th>\n",
       "      <td>4.5</td>\n",
       "      <td>1961</td>\n",
       "      <td>Apr Average</td>\n",
       "      <td>Mongolia</td>\n",
       "      <td>MNG</td>\n",
       "    </tr>\n",
       "    <tr>\n",
       "      <th>4</th>\n",
       "      <td>8.7</td>\n",
       "      <td>1961</td>\n",
       "      <td>May Average</td>\n",
       "      <td>Mongolia</td>\n",
       "      <td>MNG</td>\n",
       "    </tr>\n",
       "  </tbody>\n",
       "</table>\n",
       "</div>"
      ],
      "text/plain": [
       "   Temperature - (Celsius)   Year    Statistics    Country  ISO3\n",
       "0                    -20.8   1961   Jan Average   Mongolia   MNG\n",
       "1                    -15.7   1961   Feb Average   Mongolia   MNG\n",
       "2                     -8.3   1961   Mar Average   Mongolia   MNG\n",
       "3                      4.5   1961   Apr Average   Mongolia   MNG\n",
       "4                      8.7   1961   May Average   Mongolia   MNG"
      ]
     },
     "execution_count": 4,
     "metadata": {},
     "output_type": "execute_result"
    }
   ],
   "source": [
    "mean_temp_1.head()"
   ]
  },
  {
   "cell_type": "code",
   "execution_count": 5,
   "metadata": {},
   "outputs": [
    {
     "data": {
      "text/html": [
       "<div>\n",
       "<style scoped>\n",
       "    .dataframe tbody tr th:only-of-type {\n",
       "        vertical-align: middle;\n",
       "    }\n",
       "\n",
       "    .dataframe tbody tr th {\n",
       "        vertical-align: top;\n",
       "    }\n",
       "\n",
       "    .dataframe thead th {\n",
       "        text-align: right;\n",
       "    }\n",
       "</style>\n",
       "<table border=\"1\" class=\"dataframe\">\n",
       "  <thead>\n",
       "    <tr style=\"text-align: right;\">\n",
       "      <th></th>\n",
       "      <th>Rainfall - (MM)</th>\n",
       "      <th>Year</th>\n",
       "      <th>Statistics</th>\n",
       "      <th>Country</th>\n",
       "      <th>ISO3</th>\n",
       "    </tr>\n",
       "  </thead>\n",
       "  <tbody>\n",
       "    <tr>\n",
       "      <th>0</th>\n",
       "      <td>2.7</td>\n",
       "      <td>1961</td>\n",
       "      <td>Jan Average</td>\n",
       "      <td>Mongolia</td>\n",
       "      <td>MNG</td>\n",
       "    </tr>\n",
       "    <tr>\n",
       "      <th>1</th>\n",
       "      <td>0.7</td>\n",
       "      <td>1961</td>\n",
       "      <td>Feb Average</td>\n",
       "      <td>Mongolia</td>\n",
       "      <td>MNG</td>\n",
       "    </tr>\n",
       "    <tr>\n",
       "      <th>2</th>\n",
       "      <td>4.6</td>\n",
       "      <td>1961</td>\n",
       "      <td>Mar Average</td>\n",
       "      <td>Mongolia</td>\n",
       "      <td>MNG</td>\n",
       "    </tr>\n",
       "    <tr>\n",
       "      <th>3</th>\n",
       "      <td>9.2</td>\n",
       "      <td>1961</td>\n",
       "      <td>Apr Average</td>\n",
       "      <td>Mongolia</td>\n",
       "      <td>MNG</td>\n",
       "    </tr>\n",
       "    <tr>\n",
       "      <th>4</th>\n",
       "      <td>24.1</td>\n",
       "      <td>1961</td>\n",
       "      <td>May Average</td>\n",
       "      <td>Mongolia</td>\n",
       "      <td>MNG</td>\n",
       "    </tr>\n",
       "  </tbody>\n",
       "</table>\n",
       "</div>"
      ],
      "text/plain": [
       "   Rainfall - (MM)   Year    Statistics    Country  ISO3\n",
       "0              2.7   1961   Jan Average   Mongolia   MNG\n",
       "1              0.7   1961   Feb Average   Mongolia   MNG\n",
       "2              4.6   1961   Mar Average   Mongolia   MNG\n",
       "3              9.2   1961   Apr Average   Mongolia   MNG\n",
       "4             24.1   1961   May Average   Mongolia   MNG"
      ]
     },
     "execution_count": 5,
     "metadata": {},
     "output_type": "execute_result"
    }
   ],
   "source": [
    "mean_rainfall_1.head()"
   ]
  },
  {
   "cell_type": "markdown",
   "metadata": {},
   "source": [
    "Import animal data"
   ]
  },
  {
   "cell_type": "code",
   "execution_count": 6,
   "metadata": {},
   "outputs": [],
   "source": [
    "animal = pd.read_csv(\"./data/DT_NSO_1001_021V1_-_2021-06-08_-_www.1212.mn.csv\", thousands=',')"
   ]
  },
  {
   "cell_type": "code",
   "execution_count": 7,
   "metadata": {},
   "outputs": [
    {
     "data": {
      "text/html": [
       "<div>\n",
       "<style scoped>\n",
       "    .dataframe tbody tr th:only-of-type {\n",
       "        vertical-align: middle;\n",
       "    }\n",
       "\n",
       "    .dataframe tbody tr th {\n",
       "        vertical-align: top;\n",
       "    }\n",
       "\n",
       "    .dataframe thead th {\n",
       "        text-align: right;\n",
       "    }\n",
       "</style>\n",
       "<table border=\"1\" class=\"dataframe\">\n",
       "  <thead>\n",
       "    <tr style=\"text-align: right;\">\n",
       "      <th></th>\n",
       "      <th>Баг, хороо</th>\n",
       "      <th>Малын төрөл</th>\n",
       "      <th>1970</th>\n",
       "      <th>1971</th>\n",
       "      <th>1972</th>\n",
       "      <th>1973</th>\n",
       "      <th>1974</th>\n",
       "      <th>1975</th>\n",
       "      <th>1976</th>\n",
       "      <th>1977</th>\n",
       "      <th>...</th>\n",
       "      <th>2011</th>\n",
       "      <th>2012</th>\n",
       "      <th>2013</th>\n",
       "      <th>2014</th>\n",
       "      <th>2015</th>\n",
       "      <th>2016</th>\n",
       "      <th>2017</th>\n",
       "      <th>2018</th>\n",
       "      <th>2019</th>\n",
       "      <th>2020</th>\n",
       "    </tr>\n",
       "  </thead>\n",
       "  <tbody>\n",
       "    <tr>\n",
       "      <th>0</th>\n",
       "      <td>Баруун бүс</td>\n",
       "      <td>Бүгд</td>\n",
       "      <td>7246.47</td>\n",
       "      <td>7570.68</td>\n",
       "      <td>7600.46</td>\n",
       "      <td>7856.79</td>\n",
       "      <td>7760.02</td>\n",
       "      <td>7630.71</td>\n",
       "      <td>7510.50</td>\n",
       "      <td>7169.72</td>\n",
       "      <td>...</td>\n",
       "      <td>8525.36</td>\n",
       "      <td>9670.83</td>\n",
       "      <td>10832.75</td>\n",
       "      <td>12544.51</td>\n",
       "      <td>13711.18</td>\n",
       "      <td>15135.83</td>\n",
       "      <td>16201.58</td>\n",
       "      <td>15557.38</td>\n",
       "      <td>16004.30</td>\n",
       "      <td>15845.18</td>\n",
       "    </tr>\n",
       "    <tr>\n",
       "      <th>1</th>\n",
       "      <td>Баруун бүс</td>\n",
       "      <td>Адуу</td>\n",
       "      <td>510.88</td>\n",
       "      <td>535.83</td>\n",
       "      <td>540.69</td>\n",
       "      <td>542.67</td>\n",
       "      <td>552.87</td>\n",
       "      <td>522.15</td>\n",
       "      <td>510.44</td>\n",
       "      <td>477.56</td>\n",
       "      <td>...</td>\n",
       "      <td>332.69</td>\n",
       "      <td>369.46</td>\n",
       "      <td>414.57</td>\n",
       "      <td>478.38</td>\n",
       "      <td>534.40</td>\n",
       "      <td>607.17</td>\n",
       "      <td>676.12</td>\n",
       "      <td>700.21</td>\n",
       "      <td>734.54</td>\n",
       "      <td>729.50</td>\n",
       "    </tr>\n",
       "    <tr>\n",
       "      <th>2</th>\n",
       "      <td>Баруун бүс</td>\n",
       "      <td>Үхэр</td>\n",
       "      <td>497.31</td>\n",
       "      <td>544.17</td>\n",
       "      <td>549.05</td>\n",
       "      <td>563.38</td>\n",
       "      <td>579.95</td>\n",
       "      <td>557.22</td>\n",
       "      <td>546.18</td>\n",
       "      <td>529.12</td>\n",
       "      <td>...</td>\n",
       "      <td>369.36</td>\n",
       "      <td>423.84</td>\n",
       "      <td>497.47</td>\n",
       "      <td>599.28</td>\n",
       "      <td>675.36</td>\n",
       "      <td>742.22</td>\n",
       "      <td>815.96</td>\n",
       "      <td>822.74</td>\n",
       "      <td>854.56</td>\n",
       "      <td>858.96</td>\n",
       "    </tr>\n",
       "    <tr>\n",
       "      <th>3</th>\n",
       "      <td>Баруун бүс</td>\n",
       "      <td>Тэмээ</td>\n",
       "      <td>169.11</td>\n",
       "      <td>173.19</td>\n",
       "      <td>171.47</td>\n",
       "      <td>172.96</td>\n",
       "      <td>171.55</td>\n",
       "      <td>169.52</td>\n",
       "      <td>168.17</td>\n",
       "      <td>166.48</td>\n",
       "      <td>...</td>\n",
       "      <td>67.64</td>\n",
       "      <td>74.27</td>\n",
       "      <td>77.79</td>\n",
       "      <td>84.13</td>\n",
       "      <td>88.55</td>\n",
       "      <td>96.21</td>\n",
       "      <td>103.91</td>\n",
       "      <td>107.57</td>\n",
       "      <td>109.83</td>\n",
       "      <td>108.63</td>\n",
       "    </tr>\n",
       "    <tr>\n",
       "      <th>4</th>\n",
       "      <td>Баруун бүс</td>\n",
       "      <td>Хонь</td>\n",
       "      <td>4392.71</td>\n",
       "      <td>4582.04</td>\n",
       "      <td>4614.59</td>\n",
       "      <td>4765.16</td>\n",
       "      <td>4671.71</td>\n",
       "      <td>4619.97</td>\n",
       "      <td>4528.01</td>\n",
       "      <td>4325.99</td>\n",
       "      <td>...</td>\n",
       "      <td>3414.71</td>\n",
       "      <td>4034.52</td>\n",
       "      <td>4549.41</td>\n",
       "      <td>5318.11</td>\n",
       "      <td>5758.53</td>\n",
       "      <td>6417.55</td>\n",
       "      <td>6903.22</td>\n",
       "      <td>6606.93</td>\n",
       "      <td>6729.71</td>\n",
       "      <td>6431.83</td>\n",
       "    </tr>\n",
       "  </tbody>\n",
       "</table>\n",
       "<p>5 rows × 53 columns</p>\n",
       "</div>"
      ],
      "text/plain": [
       "   Баг, хороо Малын төрөл     1970     1971     1972     1973     1974  \\\n",
       "0  Баруун бүс        Бүгд  7246.47  7570.68  7600.46  7856.79  7760.02   \n",
       "1  Баруун бүс        Адуу   510.88   535.83   540.69   542.67   552.87   \n",
       "2  Баруун бүс        Үхэр   497.31   544.17   549.05   563.38   579.95   \n",
       "3  Баруун бүс       Тэмээ   169.11   173.19   171.47   172.96   171.55   \n",
       "4  Баруун бүс        Хонь  4392.71  4582.04  4614.59  4765.16  4671.71   \n",
       "\n",
       "      1975     1976     1977  ...     2011     2012      2013      2014  \\\n",
       "0  7630.71  7510.50  7169.72  ...  8525.36  9670.83  10832.75  12544.51   \n",
       "1   522.15   510.44   477.56  ...   332.69   369.46    414.57    478.38   \n",
       "2   557.22   546.18   529.12  ...   369.36   423.84    497.47    599.28   \n",
       "3   169.52   168.17   166.48  ...    67.64    74.27     77.79     84.13   \n",
       "4  4619.97  4528.01  4325.99  ...  3414.71  4034.52   4549.41   5318.11   \n",
       "\n",
       "       2015      2016      2017      2018      2019      2020  \n",
       "0  13711.18  15135.83  16201.58  15557.38  16004.30  15845.18  \n",
       "1    534.40    607.17    676.12    700.21    734.54    729.50  \n",
       "2    675.36    742.22    815.96    822.74    854.56    858.96  \n",
       "3     88.55     96.21    103.91    107.57    109.83    108.63  \n",
       "4   5758.53   6417.55   6903.22   6606.93   6729.71   6431.83  \n",
       "\n",
       "[5 rows x 53 columns]"
      ]
     },
     "execution_count": 7,
     "metadata": {},
     "output_type": "execute_result"
    }
   ],
   "source": [
    "animal.head()"
   ]
  },
  {
   "cell_type": "markdown",
   "metadata": {},
   "source": [
    "## Data cleanning"
   ]
  },
  {
   "cell_type": "markdown",
   "metadata": {},
   "source": [
    "Translate column names into english"
   ]
  },
  {
   "cell_type": "code",
   "execution_count": 8,
   "metadata": {},
   "outputs": [],
   "source": [
    "animal = animal.rename(columns={'Баг, хороо': 'Region', 'Малын төрөл': 'Kind'})"
   ]
  },
  {
   "cell_type": "markdown",
   "metadata": {},
   "source": [
    "Flatten the matrix of animal data"
   ]
  },
  {
   "cell_type": "code",
   "execution_count": 9,
   "metadata": {},
   "outputs": [],
   "source": [
    "animal = animal.melt(id_vars=animal[[\"Region\", \"Kind\"]], value_vars=list(animal.columns[2:]),var_name='Year', value_name='Number of head')"
   ]
  },
  {
   "cell_type": "markdown",
   "metadata": {},
   "source": [
    "Filter Total rows"
   ]
  },
  {
   "cell_type": "code",
   "execution_count": 10,
   "metadata": {},
   "outputs": [],
   "source": [
    "animal = animal[animal[\"Kind\"] != \"Бүгд\"]"
   ]
  },
  {
   "cell_type": "code",
   "execution_count": 11,
   "metadata": {},
   "outputs": [
    {
     "data": {
      "text/html": [
       "<div>\n",
       "<style scoped>\n",
       "    .dataframe tbody tr th:only-of-type {\n",
       "        vertical-align: middle;\n",
       "    }\n",
       "\n",
       "    .dataframe tbody tr th {\n",
       "        vertical-align: top;\n",
       "    }\n",
       "\n",
       "    .dataframe thead th {\n",
       "        text-align: right;\n",
       "    }\n",
       "</style>\n",
       "<table border=\"1\" class=\"dataframe\">\n",
       "  <thead>\n",
       "    <tr style=\"text-align: right;\">\n",
       "      <th></th>\n",
       "      <th>Region</th>\n",
       "      <th>Kind</th>\n",
       "      <th>Year</th>\n",
       "      <th>Number of head</th>\n",
       "    </tr>\n",
       "  </thead>\n",
       "  <tbody>\n",
       "    <tr>\n",
       "      <th>1</th>\n",
       "      <td>Баруун бүс</td>\n",
       "      <td>Адуу</td>\n",
       "      <td>1970</td>\n",
       "      <td>510.88</td>\n",
       "    </tr>\n",
       "    <tr>\n",
       "      <th>2</th>\n",
       "      <td>Баруун бүс</td>\n",
       "      <td>Үхэр</td>\n",
       "      <td>1970</td>\n",
       "      <td>497.31</td>\n",
       "    </tr>\n",
       "    <tr>\n",
       "      <th>3</th>\n",
       "      <td>Баруун бүс</td>\n",
       "      <td>Тэмээ</td>\n",
       "      <td>1970</td>\n",
       "      <td>169.11</td>\n",
       "    </tr>\n",
       "    <tr>\n",
       "      <th>4</th>\n",
       "      <td>Баруун бүс</td>\n",
       "      <td>Хонь</td>\n",
       "      <td>1970</td>\n",
       "      <td>4392.71</td>\n",
       "    </tr>\n",
       "    <tr>\n",
       "      <th>5</th>\n",
       "      <td>Баруун бүс</td>\n",
       "      <td>Ямаа</td>\n",
       "      <td>1970</td>\n",
       "      <td>1676.46</td>\n",
       "    </tr>\n",
       "  </tbody>\n",
       "</table>\n",
       "</div>"
      ],
      "text/plain": [
       "       Region   Kind  Year  Number of head\n",
       "1  Баруун бүс   Адуу  1970          510.88\n",
       "2  Баруун бүс   Үхэр  1970          497.31\n",
       "3  Баруун бүс  Тэмээ  1970          169.11\n",
       "4  Баруун бүс   Хонь  1970         4392.71\n",
       "5  Баруун бүс   Ямаа  1970         1676.46"
      ]
     },
     "execution_count": 11,
     "metadata": {},
     "output_type": "execute_result"
    }
   ],
   "source": [
    "animal.head()"
   ]
  },
  {
   "cell_type": "markdown",
   "metadata": {},
   "source": [
    "Translate string values into english"
   ]
  },
  {
   "cell_type": "code",
   "execution_count": 12,
   "metadata": {},
   "outputs": [],
   "source": [
    "#Kind of animals\n",
    "animal = animal.replace({'Kind': {\"Адуу\": \"Horse\", \"Үхэр\": \"Cow\", \"Тэмээ\": \"Camel\", \"Хонь\": \"Sheep\", \"Ямаа\": \"Goat\"}})\n",
    "#Regions\n",
    "animal = animal.replace({'Region': {\"Баруун бүс\": \"West\", \"Зүүн бүс\": \"East\", \"Төвийн бүс\": \"Center\", \"Улаанбаатар\": \"UB\", \"Хангайн бүс\": \"Khangai\"}})"
   ]
  },
  {
   "cell_type": "markdown",
   "metadata": {},
   "source": [
    "Union temperature data of \"1961 - 1990\" and \"1991 - 2020\""
   ]
  },
  {
   "cell_type": "code",
   "execution_count": 13,
   "metadata": {},
   "outputs": [
    {
     "data": {
      "text/html": [
       "<div>\n",
       "<style scoped>\n",
       "    .dataframe tbody tr th:only-of-type {\n",
       "        vertical-align: middle;\n",
       "    }\n",
       "\n",
       "    .dataframe tbody tr th {\n",
       "        vertical-align: top;\n",
       "    }\n",
       "\n",
       "    .dataframe thead th {\n",
       "        text-align: right;\n",
       "    }\n",
       "</style>\n",
       "<table border=\"1\" class=\"dataframe\">\n",
       "  <thead>\n",
       "    <tr style=\"text-align: right;\">\n",
       "      <th></th>\n",
       "      <th>Temperature - (Celsius)</th>\n",
       "      <th>Year</th>\n",
       "      <th>Statistics</th>\n",
       "      <th>Country</th>\n",
       "      <th>ISO3</th>\n",
       "    </tr>\n",
       "  </thead>\n",
       "  <tbody>\n",
       "    <tr>\n",
       "      <th>355</th>\n",
       "      <td>16.2</td>\n",
       "      <td>2020</td>\n",
       "      <td>Aug Average</td>\n",
       "      <td>Mongolia</td>\n",
       "      <td>MNG</td>\n",
       "    </tr>\n",
       "    <tr>\n",
       "      <th>356</th>\n",
       "      <td>10.9</td>\n",
       "      <td>2020</td>\n",
       "      <td>Sep Average</td>\n",
       "      <td>Mongolia</td>\n",
       "      <td>MNG</td>\n",
       "    </tr>\n",
       "    <tr>\n",
       "      <th>357</th>\n",
       "      <td>0.4</td>\n",
       "      <td>2020</td>\n",
       "      <td>Oct Average</td>\n",
       "      <td>Mongolia</td>\n",
       "      <td>MNG</td>\n",
       "    </tr>\n",
       "    <tr>\n",
       "      <th>358</th>\n",
       "      <td>-8.0</td>\n",
       "      <td>2020</td>\n",
       "      <td>Nov Average</td>\n",
       "      <td>Mongolia</td>\n",
       "      <td>MNG</td>\n",
       "    </tr>\n",
       "    <tr>\n",
       "      <th>359</th>\n",
       "      <td>-20.8</td>\n",
       "      <td>2020</td>\n",
       "      <td>Dec Average</td>\n",
       "      <td>Mongolia</td>\n",
       "      <td>MNG</td>\n",
       "    </tr>\n",
       "  </tbody>\n",
       "</table>\n",
       "</div>"
      ],
      "text/plain": [
       "     Temperature - (Celsius)   Year    Statistics    Country  ISO3\n",
       "355                     16.2   2020   Aug Average   Mongolia   MNG\n",
       "356                     10.9   2020   Sep Average   Mongolia   MNG\n",
       "357                      0.4   2020   Oct Average   Mongolia   MNG\n",
       "358                     -8.0   2020   Nov Average   Mongolia   MNG\n",
       "359                    -20.8   2020   Dec Average   Mongolia   MNG"
      ]
     },
     "execution_count": 13,
     "metadata": {},
     "output_type": "execute_result"
    }
   ],
   "source": [
    "frames_temp = [mean_temp_1, mean_temp_2]\n",
    "mean_temp = pd.concat(frames_temp)\n",
    "mean_temp.tail()"
   ]
  },
  {
   "cell_type": "markdown",
   "metadata": {},
   "source": [
    "Union rainfall data of \"1961 - 1990\" and \"1991 - 2020\""
   ]
  },
  {
   "cell_type": "code",
   "execution_count": 14,
   "metadata": {},
   "outputs": [
    {
     "data": {
      "text/html": [
       "<div>\n",
       "<style scoped>\n",
       "    .dataframe tbody tr th:only-of-type {\n",
       "        vertical-align: middle;\n",
       "    }\n",
       "\n",
       "    .dataframe tbody tr th {\n",
       "        vertical-align: top;\n",
       "    }\n",
       "\n",
       "    .dataframe thead th {\n",
       "        text-align: right;\n",
       "    }\n",
       "</style>\n",
       "<table border=\"1\" class=\"dataframe\">\n",
       "  <thead>\n",
       "    <tr style=\"text-align: right;\">\n",
       "      <th></th>\n",
       "      <th>Rainfall - (MM)</th>\n",
       "      <th>Year</th>\n",
       "      <th>Statistics</th>\n",
       "      <th>Country</th>\n",
       "      <th>ISO3</th>\n",
       "    </tr>\n",
       "  </thead>\n",
       "  <tbody>\n",
       "    <tr>\n",
       "      <th>355</th>\n",
       "      <td>70.0</td>\n",
       "      <td>2020</td>\n",
       "      <td>Aug Average</td>\n",
       "      <td>Mongolia</td>\n",
       "      <td>MNG</td>\n",
       "    </tr>\n",
       "    <tr>\n",
       "      <th>356</th>\n",
       "      <td>21.9</td>\n",
       "      <td>2020</td>\n",
       "      <td>Sep Average</td>\n",
       "      <td>Mongolia</td>\n",
       "      <td>MNG</td>\n",
       "    </tr>\n",
       "    <tr>\n",
       "      <th>357</th>\n",
       "      <td>8.3</td>\n",
       "      <td>2020</td>\n",
       "      <td>Oct Average</td>\n",
       "      <td>Mongolia</td>\n",
       "      <td>MNG</td>\n",
       "    </tr>\n",
       "    <tr>\n",
       "      <th>358</th>\n",
       "      <td>5.3</td>\n",
       "      <td>2020</td>\n",
       "      <td>Nov Average</td>\n",
       "      <td>Mongolia</td>\n",
       "      <td>MNG</td>\n",
       "    </tr>\n",
       "    <tr>\n",
       "      <th>359</th>\n",
       "      <td>1.4</td>\n",
       "      <td>2020</td>\n",
       "      <td>Dec Average</td>\n",
       "      <td>Mongolia</td>\n",
       "      <td>MNG</td>\n",
       "    </tr>\n",
       "  </tbody>\n",
       "</table>\n",
       "</div>"
      ],
      "text/plain": [
       "     Rainfall - (MM)   Year    Statistics    Country  ISO3\n",
       "355             70.0   2020   Aug Average   Mongolia   MNG\n",
       "356             21.9   2020   Sep Average   Mongolia   MNG\n",
       "357              8.3   2020   Oct Average   Mongolia   MNG\n",
       "358              5.3   2020   Nov Average   Mongolia   MNG\n",
       "359              1.4   2020   Dec Average   Mongolia   MNG"
      ]
     },
     "execution_count": 14,
     "metadata": {},
     "output_type": "execute_result"
    }
   ],
   "source": [
    "frames_rainfall = [mean_rainfall_1, mean_rainfall_2]\n",
    "mean_rainfall = pd.concat(frames_rainfall)\n",
    "mean_rainfall.tail()"
   ]
  },
  {
   "cell_type": "markdown",
   "metadata": {},
   "source": [
    "Drop unnecessary columns"
   ]
  },
  {
   "cell_type": "code",
   "execution_count": 15,
   "metadata": {},
   "outputs": [],
   "source": [
    "mean_temp.drop(mean_temp.columns[[3, 4]], axis=1, inplace=True)\n",
    "mean_rainfall.drop(mean_rainfall.columns[[3, 4]], axis=1, inplace=True)"
   ]
  },
  {
   "cell_type": "markdown",
   "metadata": {},
   "source": [
    "Join temperature and rainfall data to create one dataset for weather data"
   ]
  },
  {
   "cell_type": "code",
   "execution_count": 16,
   "metadata": {},
   "outputs": [],
   "source": [
    "#Temperature and rainfall\n",
    "weather = pd.merge(mean_temp, mean_rainfall, how=\"left\", left_on=[' Year',' Statistics'], right_on = [' Year',' Statistics'])"
   ]
  },
  {
   "cell_type": "markdown",
   "metadata": {},
   "source": [
    "Join weather and animal data to create a single dataset aggregated by Year"
   ]
  },
  {
   "cell_type": "code",
   "execution_count": 17,
   "metadata": {},
   "outputs": [
    {
     "name": "stderr",
     "output_type": "stream",
     "text": [
      "C:\\Users\\admin\\anaconda3\\lib\\site-packages\\ipykernel_launcher.py:1: FutureWarning: Indexing with multiple keys (implicitly converted to a tuple of keys) will be deprecated, use a list instead.\n",
      "  \"\"\"Entry point for launching an IPython kernel.\n"
     ]
    }
   ],
   "source": [
    "weather_prep = weather.groupby([' Year'])['Temperature - (Celsius)', 'Rainfall - (MM)'].mean().reset_index()"
   ]
  },
  {
   "cell_type": "code",
   "execution_count": 18,
   "metadata": {},
   "outputs": [],
   "source": [
    "#Change the type of the column Year of Animal dataframe and correct the unit of the field Number of head\n",
    "animal.Year = pd.to_numeric(animal.Year)\n",
    "animal[\"Number of head\"] = pd.to_numeric(animal[\"Number of head\"]) * 1000"
   ]
  },
  {
   "cell_type": "code",
   "execution_count": 19,
   "metadata": {},
   "outputs": [],
   "source": [
    "animal_prep = animal.groupby(['Year'])['Number of head'].sum().reset_index()"
   ]
  },
  {
   "cell_type": "code",
   "execution_count": 20,
   "metadata": {},
   "outputs": [],
   "source": [
    "#Join weather and animal\n",
    "dataset = pd.merge(weather_prep, animal_prep, how=\"left\", left_on=[' Year'], right_on = ['Year'])"
   ]
  },
  {
   "cell_type": "markdown",
   "metadata": {},
   "source": [
    "For further analysis, we are going to create a dataset which join weather and goat data"
   ]
  },
  {
   "cell_type": "code",
   "execution_count": 21,
   "metadata": {},
   "outputs": [],
   "source": [
    "animal_prep_goat = animal[animal.Kind == \"Goat\"]\n",
    "animal_prep_goat = animal_prep_goat.groupby(['Year'])['Number of head'].sum().reset_index()\n",
    "dataset_goat = pd.merge(weather_prep, animal_prep_goat, how=\"left\", left_on=[' Year'], right_on = ['Year'])"
   ]
  },
  {
   "cell_type": "markdown",
   "metadata": {},
   "source": [
    "# Data exploration"
   ]
  },
  {
   "cell_type": "markdown",
   "metadata": {},
   "source": [
    "1. To see if the rise of temperature is real"
   ]
  },
  {
   "cell_type": "markdown",
   "metadata": {},
   "source": [
    "We group Months by Season to see the average temperature and rainfall of each season per year"
   ]
  },
  {
   "cell_type": "code",
   "execution_count": 22,
   "metadata": {},
   "outputs": [],
   "source": [
    "weather = weather.replace({' Statistics': {\" Jan Average\": \"winter\", \" Feb Average\": \"winter\", \" Mar Average\": \"spring\", \" Apr Average\": \"spring\", \" May Average\": \"spring\", \" Jun Average\" : \"summer\", \" Jul Average\" : \"summer\", \" Aug Average\" : \"summer\", \" Sep Average\" : \"fall\", \" Oct Average\" : \"fall\", \" Nov Average\" : \"fall\", \" Dec Average\" : \"winter\"}})"
   ]
  },
  {
   "cell_type": "code",
   "execution_count": 26,
   "metadata": {},
   "outputs": [
    {
     "name": "stderr",
     "output_type": "stream",
     "text": [
      "C:\\Users\\admin\\anaconda3\\lib\\site-packages\\ipykernel_launcher.py:1: FutureWarning: Indexing with multiple keys (implicitly converted to a tuple of keys) will be deprecated, use a list instead.\n",
      "  \"\"\"Entry point for launching an IPython kernel.\n"
     ]
    }
   ],
   "source": [
    "weather = weather.groupby([' Year', ' Statistics'])['Temperature - (Celsius)', 'Rainfall - (MM)'].mean().reset_index()"
   ]
  },
  {
   "cell_type": "code",
   "execution_count": 30,
   "metadata": {},
   "outputs": [
    {
     "data": {
      "image/png": "[encoded data removed]",
      "text/plain": [
       "<Figure size 1080x720 with 1 Axes>"
      ]
     },
     "metadata": {
      "needs_background": "light"
     },
     "output_type": "display_data"
    }
   ],
   "source": [
    "plt.figure(figsize=(15,10))\n",
    "plt.title(\"Average temperature by season since 1960\", fontdict=None, loc='center', pad=None)\n",
    "\n",
    "plt.plot(\" Year\", \"Temperature - (Celsius)\", 'r--', data=weather[weather[\" Statistics\"] == \"summer\"], label = \"summer\")\n",
    "plt.plot(\" Year\", \"Temperature - (Celsius)\", 'bs--', data=weather[weather[\" Statistics\"] == \"spring\"], label = \"spring\")\n",
    "plt.plot(\" Year\", \"Temperature - (Celsius)\", 'g^--', data=weather[weather[\" Statistics\"] == \"fall\"], label = \"fall\")\n",
    "plt.plot(\" Year\", \"Temperature - (Celsius)\", 'ro--', data=weather[weather[\" Statistics\"] == \"winter\"], label = \"winter\")\n",
    "\n",
    "# show legend\n",
    "plt.legend()\n",
    "\n",
    "# show graph\n",
    "plt.show()"
   ]
  },
  {
   "cell_type": "markdown",
   "metadata": {},
   "source": [
    "We can see that average temperature of summer, spring and fall rises slightly"
   ]
  },
  {
   "cell_type": "code",
   "execution_count": 43,
   "metadata": {},
   "outputs": [
    {
     "data": {
      "image/png": "[encoded data removed]",
      "text/plain": [
       "<Figure size 1080x720 with 1 Axes>"
      ]
     },
     "metadata": {
      "needs_background": "light"
     },
     "output_type": "display_data"
    }
   ],
   "source": [
    "plt.figure(figsize=(15,10))\n",
    "plt.title(\"Average rainfall by season since 1960\", fontdict=None, loc='center', pad=None)\n",
    "\n",
    "plt.plot(\" Year\", \"Rainfall - (MM)\", 'r--', data=weather[weather[\" Statistics\"] == \"summer\"], label = \"summer\")\n",
    "plt.plot(\" Year\", \"Rainfall - (MM)\", 'bs--', data=weather[weather[\" Statistics\"] == \"spring\"], label = \"spring\")\n",
    "plt.plot(\" Year\", \"Rainfall - (MM)\", 'g^--', data=weather[weather[\" Statistics\"] == \"fall\"], label = \"fall\")\n",
    "plt.plot(\" Year\", \"Rainfall - (MM)\", 'ro--', data=weather[weather[\" Statistics\"] == \"winter\"], label = \"winter\")\n",
    "\n",
    "# show legend\n",
    "plt.legend()\n",
    "\n",
    "# show graph\n",
    "plt.show()"
   ]
  },
  {
   "cell_type": "markdown",
   "metadata": {},
   "source": [
    "Difficult to say if average rainfall decreases on the graph above"
   ]
  },
  {
   "cell_type": "markdown",
   "metadata": {},
   "source": [
    "Let's see by statistical method if there is a correlation between these two features"
   ]
  },
  {
   "cell_type": "code",
   "execution_count": 46,
   "metadata": {},
   "outputs": [
    {
     "ename": "SyntaxError",
     "evalue": "unexpected EOF while parsing (<ipython-input-46-d0cda73771fb>, line 2)",
     "output_type": "error",
     "traceback": [
      "\u001b[1;36m  File \u001b[1;32m\"<ipython-input-46-d0cda73771fb>\"\u001b[1;36m, line \u001b[1;32m2\u001b[0m\n\u001b[1;33m    print(\"coefficient de Pearson = {}\".format(coeff_pearson)\u001b[0m\n\u001b[1;37m                                                             ^\u001b[0m\n\u001b[1;31mSyntaxError\u001b[0m\u001b[1;31m:\u001b[0m unexpected EOF while parsing\n"
     ]
    }
   ],
   "source": [
    "coeff_pearson, = pearsonr(weather[\"Temperature - (Celsius)\"],weather[\"Rainfall - (MM)\"])\n",
    "print(\"coefficient de Pearson = {}\".format(coeff_pearson)"
   ]
  },
  {
   "cell_type": "markdown",
   "metadata": {},
   "source": [
    "2. To see if the rise of temperature is correlated to the rise of number of animals"
   ]
  },
  {
   "cell_type": "code",
   "execution_count": 41,
   "metadata": {},
   "outputs": [
    {
     "data": {
      "image/png": "[encoded data removed]",
      "text/plain": [
       "<Figure size 1080x432 with 1 Axes>"
      ]
     },
     "metadata": {
      "needs_background": "light"
     },
     "output_type": "display_data"
    }
   ],
   "source": [
    "plt.figure(figsize=(15,6))\n",
    "plt.title(\"Correlation between number of animals and temperature\", fontdict=None, loc='center', pad=None)\n",
    "\n",
    "plt.plot(\" Year\", \"Temperature - (Celsius)\", '-ok', color = \"black\", data=dataset, label = \"temperature\")\n",
    "plt.plot(\" Year\", \"Number of head\", 'b', data=dataset, label = \"total number of animals\")\n",
    "# show legend\n",
    "plt.legend()\n",
    "# show graph\n",
    "plt.show()"
   ]
  },
  {
   "cell_type": "code",
   "execution_count": 25,
   "metadata": {},
   "outputs": [
    {
     "ename": "TypeError",
     "evalue": "no numeric data to plot",
     "output_type": "error",
     "traceback": [
      "\u001b[1;31m---------------------------------------------------------------------------\u001b[0m",
      "\u001b[1;31mTypeError\u001b[0m                                 Traceback (most recent call last)",
      "\u001b[1;32m<ipython-input-25-d2bdcf679e3d>\u001b[0m in \u001b[0;36m<module>\u001b[1;34m\u001b[0m\n\u001b[1;32m----> 1\u001b[1;33m \u001b[0manimal\u001b[0m\u001b[1;33m.\u001b[0m\u001b[0mgroupby\u001b[0m\u001b[1;33m(\u001b[0m\u001b[1;33m[\u001b[0m\u001b[1;34m'Year'\u001b[0m\u001b[1;33m,\u001b[0m\u001b[1;34m'Kind'\u001b[0m\u001b[1;33m]\u001b[0m\u001b[1;33m)\u001b[0m\u001b[1;33m[\u001b[0m\u001b[1;34m'Number of head'\u001b[0m\u001b[1;33m]\u001b[0m\u001b[1;33m.\u001b[0m\u001b[0msum\u001b[0m\u001b[1;33m(\u001b[0m\u001b[1;33m)\u001b[0m\u001b[1;33m.\u001b[0m\u001b[0mreset_index\u001b[0m\u001b[1;33m(\u001b[0m\u001b[1;33m)\u001b[0m\u001b[1;33m.\u001b[0m\u001b[0mplot\u001b[0m\u001b[1;33m(\u001b[0m\u001b[0mx\u001b[0m\u001b[1;33m=\u001b[0m\u001b[1;34m\"Year\"\u001b[0m\u001b[1;33m,\u001b[0m \u001b[0my\u001b[0m\u001b[1;33m=\u001b[0m\u001b[1;34m\"Kind\"\u001b[0m\u001b[1;33m,\u001b[0m \u001b[0mkind\u001b[0m\u001b[1;33m=\u001b[0m\u001b[1;34m\"bar\"\u001b[0m\u001b[1;33m)\u001b[0m\u001b[1;33m\u001b[0m\u001b[1;33m\u001b[0m\u001b[0m\n\u001b[0m",
      "\u001b[1;32m~\\anaconda3\\lib\\site-packages\\pandas\\plotting\\_core.py\u001b[0m in \u001b[0;36m__call__\u001b[1;34m(self, *args, **kwargs)\u001b[0m\n\u001b[0;32m    845\u001b[0m                     \u001b[0mdata\u001b[0m\u001b[1;33m.\u001b[0m\u001b[0mcolumns\u001b[0m \u001b[1;33m=\u001b[0m \u001b[0mlabel_name\u001b[0m\u001b[1;33m\u001b[0m\u001b[1;33m\u001b[0m\u001b[0m\n\u001b[0;32m    846\u001b[0m \u001b[1;33m\u001b[0m\u001b[0m\n\u001b[1;32m--> 847\u001b[1;33m         \u001b[1;32mreturn\u001b[0m \u001b[0mplot_backend\u001b[0m\u001b[1;33m.\u001b[0m\u001b[0mplot\u001b[0m\u001b[1;33m(\u001b[0m\u001b[0mdata\u001b[0m\u001b[1;33m,\u001b[0m \u001b[0mkind\u001b[0m\u001b[1;33m=\u001b[0m\u001b[0mkind\u001b[0m\u001b[1;33m,\u001b[0m \u001b[1;33m**\u001b[0m\u001b[0mkwargs\u001b[0m\u001b[1;33m)\u001b[0m\u001b[1;33m\u001b[0m\u001b[1;33m\u001b[0m\u001b[0m\n\u001b[0m\u001b[0;32m    848\u001b[0m \u001b[1;33m\u001b[0m\u001b[0m\n\u001b[0;32m    849\u001b[0m     \u001b[0m__call__\u001b[0m\u001b[1;33m.\u001b[0m\u001b[0m__doc__\u001b[0m \u001b[1;33m=\u001b[0m \u001b[0m__doc__\u001b[0m\u001b[1;33m\u001b[0m\u001b[1;33m\u001b[0m\u001b[0m\n",
      "\u001b[1;32m~\\anaconda3\\lib\\site-packages\\pandas\\plotting\\_matplotlib\\__init__.py\u001b[0m in \u001b[0;36mplot\u001b[1;34m(data, kind, **kwargs)\u001b[0m\n\u001b[0;32m     59\u001b[0m             \u001b[0mkwargs\u001b[0m\u001b[1;33m[\u001b[0m\u001b[1;34m\"ax\"\u001b[0m\u001b[1;33m]\u001b[0m \u001b[1;33m=\u001b[0m \u001b[0mgetattr\u001b[0m\u001b[1;33m(\u001b[0m\u001b[0max\u001b[0m\u001b[1;33m,\u001b[0m \u001b[1;34m\"left_ax\"\u001b[0m\u001b[1;33m,\u001b[0m \u001b[0max\u001b[0m\u001b[1;33m)\u001b[0m\u001b[1;33m\u001b[0m\u001b[1;33m\u001b[0m\u001b[0m\n\u001b[0;32m     60\u001b[0m     \u001b[0mplot_obj\u001b[0m \u001b[1;33m=\u001b[0m \u001b[0mPLOT_CLASSES\u001b[0m\u001b[1;33m[\u001b[0m\u001b[0mkind\u001b[0m\u001b[1;33m]\u001b[0m\u001b[1;33m(\u001b[0m\u001b[0mdata\u001b[0m\u001b[1;33m,\u001b[0m \u001b[1;33m**\u001b[0m\u001b[0mkwargs\u001b[0m\u001b[1;33m)\u001b[0m\u001b[1;33m\u001b[0m\u001b[1;33m\u001b[0m\u001b[0m\n\u001b[1;32m---> 61\u001b[1;33m     \u001b[0mplot_obj\u001b[0m\u001b[1;33m.\u001b[0m\u001b[0mgenerate\u001b[0m\u001b[1;33m(\u001b[0m\u001b[1;33m)\u001b[0m\u001b[1;33m\u001b[0m\u001b[1;33m\u001b[0m\u001b[0m\n\u001b[0m\u001b[0;32m     62\u001b[0m     \u001b[0mplot_obj\u001b[0m\u001b[1;33m.\u001b[0m\u001b[0mdraw\u001b[0m\u001b[1;33m(\u001b[0m\u001b[1;33m)\u001b[0m\u001b[1;33m\u001b[0m\u001b[1;33m\u001b[0m\u001b[0m\n\u001b[0;32m     63\u001b[0m     \u001b[1;32mreturn\u001b[0m \u001b[0mplot_obj\u001b[0m\u001b[1;33m.\u001b[0m\u001b[0mresult\u001b[0m\u001b[1;33m\u001b[0m\u001b[1;33m\u001b[0m\u001b[0m\n",
      "\u001b[1;32m~\\anaconda3\\lib\\site-packages\\pandas\\plotting\\_matplotlib\\core.py\u001b[0m in \u001b[0;36mgenerate\u001b[1;34m(self)\u001b[0m\n\u001b[0;32m    259\u001b[0m     \u001b[1;32mdef\u001b[0m \u001b[0mgenerate\u001b[0m\u001b[1;33m(\u001b[0m\u001b[0mself\u001b[0m\u001b[1;33m)\u001b[0m\u001b[1;33m:\u001b[0m\u001b[1;33m\u001b[0m\u001b[1;33m\u001b[0m\u001b[0m\n\u001b[0;32m    260\u001b[0m         \u001b[0mself\u001b[0m\u001b[1;33m.\u001b[0m\u001b[0m_args_adjust\u001b[0m\u001b[1;33m(\u001b[0m\u001b[1;33m)\u001b[0m\u001b[1;33m\u001b[0m\u001b[1;33m\u001b[0m\u001b[0m\n\u001b[1;32m--> 261\u001b[1;33m         \u001b[0mself\u001b[0m\u001b[1;33m.\u001b[0m\u001b[0m_compute_plot_data\u001b[0m\u001b[1;33m(\u001b[0m\u001b[1;33m)\u001b[0m\u001b[1;33m\u001b[0m\u001b[1;33m\u001b[0m\u001b[0m\n\u001b[0m\u001b[0;32m    262\u001b[0m         \u001b[0mself\u001b[0m\u001b[1;33m.\u001b[0m\u001b[0m_setup_subplots\u001b[0m\u001b[1;33m(\u001b[0m\u001b[1;33m)\u001b[0m\u001b[1;33m\u001b[0m\u001b[1;33m\u001b[0m\u001b[0m\n\u001b[0;32m    263\u001b[0m         \u001b[0mself\u001b[0m\u001b[1;33m.\u001b[0m\u001b[0m_make_plot\u001b[0m\u001b[1;33m(\u001b[0m\u001b[1;33m)\u001b[0m\u001b[1;33m\u001b[0m\u001b[1;33m\u001b[0m\u001b[0m\n",
      "\u001b[1;32m~\\anaconda3\\lib\\site-packages\\pandas\\plotting\\_matplotlib\\core.py\u001b[0m in \u001b[0;36m_compute_plot_data\u001b[1;34m(self)\u001b[0m\n\u001b[0;32m    408\u001b[0m         \u001b[1;31m# no non-numeric frames or series allowed\u001b[0m\u001b[1;33m\u001b[0m\u001b[1;33m\u001b[0m\u001b[1;33m\u001b[0m\u001b[0m\n\u001b[0;32m    409\u001b[0m         \u001b[1;32mif\u001b[0m \u001b[0mis_empty\u001b[0m\u001b[1;33m:\u001b[0m\u001b[1;33m\u001b[0m\u001b[1;33m\u001b[0m\u001b[0m\n\u001b[1;32m--> 410\u001b[1;33m             \u001b[1;32mraise\u001b[0m \u001b[0mTypeError\u001b[0m\u001b[1;33m(\u001b[0m\u001b[1;34m\"no numeric data to plot\"\u001b[0m\u001b[1;33m)\u001b[0m\u001b[1;33m\u001b[0m\u001b[1;33m\u001b[0m\u001b[0m\n\u001b[0m\u001b[0;32m    411\u001b[0m \u001b[1;33m\u001b[0m\u001b[0m\n\u001b[0;32m    412\u001b[0m         \u001b[1;31m# GH25587: cast ExtensionArray of pandas (IntegerArray, etc.) to\u001b[0m\u001b[1;33m\u001b[0m\u001b[1;33m\u001b[0m\u001b[1;33m\u001b[0m\u001b[0m\n",
      "\u001b[1;31mTypeError\u001b[0m: no numeric data to plot"
     ]
    }
   ],
   "source": [
    "#animal.groupby(['Year','Kind'])['Number of head'].sum().reset_index().plot(x=\"Year\", y=\"Kind\", kind=\"bar\")"
   ]
  },
  {
   "cell_type": "code",
   "execution_count": null,
   "metadata": {},
   "outputs": [],
   "source": [
    "animal.groupby(['Year','Kind'])['Number of head'].sum().reset_index()"
   ]
  },
  {
   "cell_type": "code",
   "execution_count": null,
   "metadata": {},
   "outputs": [],
   "source": []
  }
 ],
 "metadata": {
  "kernelspec": {
   "display_name": "Python 3",
   "language": "python",
   "name": "python3"
  },
  "language_info": {
   "codemirror_mode": {
    "name": "ipython",
    "version": 3
   },
   "file_extension": ".py",
   "mimetype": "text/x-python",
   "name": "python",
   "nbconvert_exporter": "python",
   "pygments_lexer": "ipython3",
   "version": "3.7.6"
  }
 },
 "nbformat": 4,
 "nbformat_minor": 4
}
